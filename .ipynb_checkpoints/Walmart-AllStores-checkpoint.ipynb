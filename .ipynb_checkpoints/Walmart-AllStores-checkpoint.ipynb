{
 "cells": [
  {
   "cell_type": "code",
   "execution_count": 2,
   "metadata": {},
   "outputs": [],
   "source": [
    "import requests\n",
    "from bs4 import BeautifulSoup\n",
    "import json\n",
    "from pandas import DataFrame as df\n",
    "import pandas as pd\n",
    "\n",
    "page = requests.get(\"https://www.walmart.com/store/directory\")\n",
    "soup = BeautifulSoup(page.content,\"html.parser\")\n",
    "\n",
    "states_links = []\n",
    "cities_links = []\n",
    "store_info = []\n",
    "\n",
    "states = soup.select('.list-ul li a')\n",
    "for i in states:\n",
    "    states_links.append(\"https://www.walmart.com\" + i['href'])\n",
    "\n",
    "for statelink in states_links:\n",
    "    state_page = requests.get(statelink)\n",
    "    state_soup = BeautifulSoup(state_page.content,\"html.parser\")\n",
    "    \n",
    "    cities = state_soup.select('.list-ul li a')\n",
    "    for city in cities:\n",
    "        cities_links.append(\"https://www.walmart.com\" + city['href'])    \n",
    "    \n",
    "for citylink in cities_links:\n",
    "    city_page = requests.get(citylink)\n",
    "    city_soup = BeautifulSoup(city_page.content,\"html.parser\") \n",
    "\n",
    "    try:\n",
    "        addressline1 = city_soup.find(class_= 'store-address-line-1',text = True)    \n",
    "        addressline1_text = addressline1.get_text()\n",
    "\n",
    "        addressline2 = city_soup.find(class_ = \"store-address-city\",text = True)\n",
    "        addressline2_text = addressline2.get_text()\n",
    "\n",
    "        storestate = city_soup.find(class_ = \"store-address-state\",text = True)\n",
    "        state_text = storestate.get_text()\n",
    "\n",
    "        postalcode = city_soup.find(class_ = \"store-address-postal\",text = True)\n",
    "        postalcode_text = postalcode.get_text()\n",
    "\n",
    "        data = {\"streetAddress\" : addressline1_text,\n",
    "             \"addressLocality\" : addressline2_text,\n",
    "             \"addressRegion\" : state_text,\n",
    "             \"postalCode\" : postalcode_text,\n",
    "             \"link\" : citylink,\n",
    "             \"store\" : \"Walmart\"}\n",
    "\n",
    "        store_info.append(data)\n",
    "    except:\n",
    "        pass\n",
    "\n",
    "stores_df = df.from_records(store_info)\n",
    "stores_df.to_csv(\"Walmart_StateList.csv\",index = False)"
   ]
  },
  {
   "cell_type": "code",
   "execution_count": null,
   "metadata": {},
   "outputs": [],
   "source": []
  }
 ],
 "metadata": {
  "kernelspec": {
   "display_name": "Python 3",
   "language": "python",
   "name": "python3"
  },
  "language_info": {
   "codemirror_mode": {
    "name": "ipython",
    "version": 3
   },
   "file_extension": ".py",
   "mimetype": "text/x-python",
   "name": "python",
   "nbconvert_exporter": "python",
   "pygments_lexer": "ipython3",
   "version": "3.7.1"
  }
 },
 "nbformat": 4,
 "nbformat_minor": 4
}
