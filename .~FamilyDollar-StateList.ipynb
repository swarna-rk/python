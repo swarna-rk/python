{
 "cells": [
  {
   "cell_type": "code",
   "execution_count": 1,
   "metadata": {},
   "outputs": [],
   "source": [
    "import requests\n",
    "from bs4 import BeautifulSoup\n",
    "import json\n",
    "from pandas import DataFrame as df\n",
    "import pandas as pd\n",
    "\n",
    "states_href = []\n",
    "states_name = []\n",
    "# Parse the webpage using Beautifulsoup\n",
    "page = requests.get(\"https://www.familydollar.com/locations/\")\n",
    "soup = BeautifulSoup(page.content,\"html.parser\")\n",
    "\n",
    "# find states using css class name and frame states array\n",
    "states_info = soup.find_all(class_ = 'itemlist')\n",
    "for state in states_info:\n",
    "    states_href.append(state.a[\"href\"])\n",
    "    states_name.append(state.a.get_text())\n",
    "\n",
    "# default the country name to US \n",
    "data = {\"Country\" : \"United States\", \"State\" : states_name, \"StateLink\" : states_href}\n",
    "\n",
    "states_df = pd.DataFrame(data)\n",
    "# convert dataframe to csv , use this as datasource for tableau\n",
    "states_df.to_csv(\"FamilyDollar_StateList.csv\",index = False)"
   ]
  }
 ],
 "metadata": {
  "kernelspec": {
   "display_name": "Python 3",
   "language": "python",
   "name": "python3"
  },
  "language_info": {
   "codemirror_mode": {
    "name": "ipython",
    "version": 3
   },
   "file_extension": ".py",
   "mimetype": "text/x-python",
   "name": "python",
   "nbconvert_exporter": "python",
   "pygments_lexer": "ipython3",
   "version": "3.7.1"
  }
 },
 "nbformat": 4,
 "nbformat_minor": 4
}
